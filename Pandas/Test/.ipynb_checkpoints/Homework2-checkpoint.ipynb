{
 "cells": [
  {
   "cell_type": "markdown",
   "metadata": {},
   "source": [
    "Вам необходимо с помощью Pandas посчитать количество упоминаний каждого хребта в столбце Parent Mountain, но только если это количество больше 3.\n",
    "Минимальную и максимальную высоту гор в этом наборе\n",
    "В каком году было впервые покорено наибольшее количество вершин (столбец First ascent)?\n",
    "Постройте распределение распределение First ascent по годам\n",
    "Классифицируйте высоту гор и посчитайте распределение количества вершин по этой классификации:,\n",
    "высота до 7500 метров - High\n",
    "до 8000 метров - Very high\n",
    "более 8000 метров - Extremely high"
   ]
  },
  {
   "cell_type": "code",
   "execution_count": 1,
   "metadata": {},
   "outputs": [],
   "source": [
    "import pandas as pd"
   ]
  },
  {
   "cell_type": "code",
   "execution_count": 2,
   "metadata": {},
   "outputs": [],
   "source": [
    "mountains = pd.read_csv('Mountains.csv', sep=',')"
   ]
  },
  {
   "cell_type": "code",
   "execution_count": 5,
   "metadata": {},
   "outputs": [
    {
     "data": {
      "text/html": [
       "<div>\n",
       "<style scoped>\n",
       "    .dataframe tbody tr th:only-of-type {\n",
       "        vertical-align: middle;\n",
       "    }\n",
       "\n",
       "    .dataframe tbody tr th {\n",
       "        vertical-align: top;\n",
       "    }\n",
       "\n",
       "    .dataframe thead th {\n",
       "        text-align: right;\n",
       "    }\n",
       "</style>\n",
       "<table border=\"1\" class=\"dataframe\">\n",
       "  <thead>\n",
       "    <tr style=\"text-align: right;\">\n",
       "      <th></th>\n",
       "      <th>Rank</th>\n",
       "      <th>Mountain</th>\n",
       "      <th>Height (m)</th>\n",
       "      <th>Height (ft)</th>\n",
       "      <th>Prominence (m)</th>\n",
       "      <th>Range</th>\n",
       "      <th>Coordinates</th>\n",
       "      <th>Parent mountain</th>\n",
       "      <th>First ascent</th>\n",
       "      <th>Ascents bef. 2004</th>\n",
       "      <th>Failed attempts bef. 2004</th>\n",
       "    </tr>\n",
       "  </thead>\n",
       "  <tbody>\n",
       "    <tr>\n",
       "      <th>0</th>\n",
       "      <td>1</td>\n",
       "      <td>Mount Everest / Sagarmatha / Chomolungma</td>\n",
       "      <td>8848</td>\n",
       "      <td>29029</td>\n",
       "      <td>8848</td>\n",
       "      <td>Mahalangur Himalaya</td>\n",
       "      <td>27°59′17″N 86°55′31″E﻿</td>\n",
       "      <td>NaN</td>\n",
       "      <td>1953</td>\n",
       "      <td>&gt;&gt;145</td>\n",
       "      <td>121.0</td>\n",
       "    </tr>\n",
       "    <tr>\n",
       "      <th>1</th>\n",
       "      <td>2</td>\n",
       "      <td>K2 / Qogir / Godwin Austen</td>\n",
       "      <td>8611</td>\n",
       "      <td>28251</td>\n",
       "      <td>4017</td>\n",
       "      <td>Baltoro Karakoram</td>\n",
       "      <td>35°52′53″N 76°30′48″E﻿</td>\n",
       "      <td>Mount Everest</td>\n",
       "      <td>1954</td>\n",
       "      <td>45</td>\n",
       "      <td>44.0</td>\n",
       "    </tr>\n",
       "    <tr>\n",
       "      <th>2</th>\n",
       "      <td>3</td>\n",
       "      <td>Kangchenjunga</td>\n",
       "      <td>8586</td>\n",
       "      <td>28169</td>\n",
       "      <td>3922</td>\n",
       "      <td>Kangchenjunga Himalaya</td>\n",
       "      <td>27°42′12″N 88°08′51″E﻿</td>\n",
       "      <td>Mount Everest</td>\n",
       "      <td>1955</td>\n",
       "      <td>38</td>\n",
       "      <td>24.0</td>\n",
       "    </tr>\n",
       "    <tr>\n",
       "      <th>3</th>\n",
       "      <td>4</td>\n",
       "      <td>Lhotse</td>\n",
       "      <td>8516</td>\n",
       "      <td>27940</td>\n",
       "      <td>610</td>\n",
       "      <td>Mahalangur Himalaya</td>\n",
       "      <td>27°57′42″N 86°55′59″E﻿</td>\n",
       "      <td>Mount Everest</td>\n",
       "      <td>1956</td>\n",
       "      <td>26</td>\n",
       "      <td>26.0</td>\n",
       "    </tr>\n",
       "    <tr>\n",
       "      <th>4</th>\n",
       "      <td>5</td>\n",
       "      <td>Makalu</td>\n",
       "      <td>8485</td>\n",
       "      <td>27838</td>\n",
       "      <td>2386</td>\n",
       "      <td>Mahalangur Himalaya</td>\n",
       "      <td>27°53′23″N 87°05′20″E﻿</td>\n",
       "      <td>Mount Everest</td>\n",
       "      <td>1955</td>\n",
       "      <td>45</td>\n",
       "      <td>52.0</td>\n",
       "    </tr>\n",
       "  </tbody>\n",
       "</table>\n",
       "</div>"
      ],
      "text/plain": [
       "   Rank                                  Mountain  Height (m)  Height (ft)  \\\n",
       "0     1  Mount Everest / Sagarmatha / Chomolungma        8848        29029   \n",
       "1     2                K2 / Qogir / Godwin Austen        8611        28251   \n",
       "2     3                             Kangchenjunga        8586        28169   \n",
       "3     4                                    Lhotse        8516        27940   \n",
       "4     5                                    Makalu        8485        27838   \n",
       "\n",
       "   Prominence (m)                   Range              Coordinates  \\\n",
       "0            8848     Mahalangur Himalaya  27°59′17″N 86°55′31″E﻿    \n",
       "1            4017       Baltoro Karakoram  35°52′53″N 76°30′48″E﻿    \n",
       "2            3922  Kangchenjunga Himalaya  27°42′12″N 88°08′51″E﻿    \n",
       "3             610     Mahalangur Himalaya  27°57′42″N 86°55′59″E﻿    \n",
       "4            2386     Mahalangur Himalaya  27°53′23″N 87°05′20″E﻿    \n",
       "\n",
       "  Parent mountain First ascent Ascents bef. 2004  Failed attempts bef. 2004  \n",
       "0             NaN         1953            >>145                       121.0  \n",
       "1   Mount Everest         1954                45                       44.0  \n",
       "2   Mount Everest         1955                38                       24.0  \n",
       "3   Mount Everest         1956                26                       26.0  \n",
       "4   Mount Everest         1955                45                       52.0  "
      ]
     },
     "execution_count": 5,
     "metadata": {},
     "output_type": "execute_result"
    }
   ],
   "source": [
    "mountains.head(5)"
   ]
  },
  {
   "cell_type": "code",
   "execution_count": 10,
   "metadata": {},
   "outputs": [
    {
     "data": {
      "text/plain": [
       "8848"
      ]
     },
     "execution_count": 10,
     "metadata": {},
     "output_type": "execute_result"
    }
   ],
   "source": [
    "mountains['Height (m)'].max()"
   ]
  },
  {
   "cell_type": "code",
   "execution_count": 11,
   "metadata": {},
   "outputs": [
    {
     "data": {
      "text/plain": [
       "7200"
      ]
     },
     "execution_count": 11,
     "metadata": {},
     "output_type": "execute_result"
    }
   ],
   "source": [
    "mountains['Height (m)'].min()"
   ]
  },
  {
   "cell_type": "code",
   "execution_count": 12,
   "metadata": {},
   "outputs": [
    {
     "data": {
      "text/plain": [
       "1960         7\n",
       "1976         6\n",
       "1956         6\n",
       "1975         5\n",
       "1994         4\n",
       "1986         4\n",
       "1964         4\n",
       "1961         4\n",
       "unclimbed    4\n",
       "1970         4\n",
       "1954         4\n",
       "1958         4\n",
       "1981         3\n",
       "1955         3\n",
       "1982         3\n",
       "1979         3\n",
       "1985         3\n",
       "1950         3\n",
       "1971         3\n",
       "1996         2\n",
       "1974         2\n",
       "1984         2\n",
       "1962         2\n",
       "1953         2\n",
       "1937         2\n",
       "1959         2\n",
       "1957         2\n",
       "1939         2\n",
       "1973         1\n",
       "1968         1\n",
       "1933         1\n",
       "1988         1\n",
       "1931         1\n",
       "1987         1\n",
       "1934         1\n",
       "1936         1\n",
       "1965         1\n",
       "1932         1\n",
       "1993         1\n",
       "1977         1\n",
       "1992         1\n",
       "1980         1\n",
       "1989         1\n",
       "1935         1\n",
       "1978         1\n",
       "1938         1\n",
       "1951         1\n",
       "1969         1\n",
       "2011         1\n",
       "1930         1\n",
       "2002         1\n",
       "Name: First ascent, dtype: int64"
      ]
     },
     "execution_count": 12,
     "metadata": {},
     "output_type": "execute_result"
    }
   ],
   "source": [
    "mountains['First ascent'].value_counts()"
   ]
  },
  {
   "cell_type": "code",
   "execution_count": 30,
   "metadata": {},
   "outputs": [
    {
     "name": "stdout",
     "output_type": "stream",
     "text": [
      "Using matplotlib backend: TkAgg\n"
     ]
    },
    {
     "data": {
      "text/plain": [
       "<matplotlib.axes._subplots.AxesSubplot at 0x7f5a2bbe49d0>"
      ]
     },
     "execution_count": 30,
     "metadata": {},
     "output_type": "execute_result"
    }
   ],
   "source": [
    "%matplotlib\n",
    "mountains['First ascent'].hist(bins=50, figsize = (25, 10))"
   ]
  },
  {
   "cell_type": "code",
   "execution_count": 31,
   "metadata": {},
   "outputs": [],
   "source": [
    "def classificate(row):\n",
    "    if not pd.isnull(row['Height (m)']):\n",
    "        \n",
    "        if row['Height (m)'] > 8000:\n",
    "            return 'Extremely high'\n",
    "        elif row['Height (m)'] <= 7500:\n",
    "            return 'High'\n",
    "        elif row['Height (m)'] > 7500 and row['Height (m)'] <=8000 :\n",
    "            return 'Very high'\n",
    "        \n",
    "    return row['Height (m)'].mean()\n",
    "        "
   ]
  },
  {
   "cell_type": "code",
   "execution_count": 32,
   "metadata": {},
   "outputs": [],
   "source": [
    "mountains['classificate'] = mountains.apply(classificate, axis=1)"
   ]
  },
  {
   "cell_type": "code",
   "execution_count": 43,
   "metadata": {},
   "outputs": [
    {
     "data": {
      "text/plain": [
       "High              64\n",
       "Very high         40\n",
       "Extremely high    14\n",
       "Name: classificate, dtype: int64"
      ]
     },
     "execution_count": 43,
     "metadata": {},
     "output_type": "execute_result"
    }
   ],
   "source": [
    "mountains['classificate'].value_counts()"
   ]
  },
  {
   "cell_type": "code",
   "execution_count": 72,
   "metadata": {},
   "outputs": [],
   "source": [
    "# def counter(row, **kwargs):\n",
    "#     if not pd.isnull(row['Parent mountain']):\n",
    "#         count = row.value_counts()\n",
    "#         if count > 3:\n",
    "#             return counter\n",
    "#         else:\n",
    "#             return '0'\n",
    "#     return \"Not Found\""
   ]
  },
  {
   "cell_type": "code",
   "execution_count": 74,
   "metadata": {},
   "outputs": [
    {
     "data": {
      "text/plain": [
       "Mount Everest         9\n",
       "Gasherbrum I          8\n",
       "Kangchenjunga         7\n",
       "Cho Oyu               7\n",
       "K2                    5\n",
       "Distaghil Sar         5\n",
       "Dhaulagiri            4\n",
       "Shisha Pangma         4\n",
       "Khunyang Chhish       3\n",
       "Manaslu               3\n",
       "Kamet                 3\n",
       "Teram Kangri I        3\n",
       "Batura Sar            3\n",
       "Dhaulagiri IV         3\n",
       "Gangkhar Puensum      2\n",
       "Chogolisa             2\n",
       "Malubiting            2\n",
       "Noshaq                2\n",
       "Kongur Tagh           2\n",
       "Nanda Devi            2\n",
       "Lhotse                2\n",
       "Annapurna I           2\n",
       "Saser Kangri I        2\n",
       "Saltoro Kangri        2\n",
       "Skil Brum             2\n",
       "Gangkar Puensum       2\n",
       "Gasherbrum II         1\n",
       "Shispare              1\n",
       "Annapurna             1\n",
       "Annapurna III         1\n",
       "Ghent Kangri          1\n",
       "Ismail Samani Peak    1\n",
       "Makalu                1\n",
       "Pumari Chhish         1\n",
       "Trivor                1\n",
       "Labuche Kang          1\n",
       "Kanjut Sar            1\n",
       "Yukshin Gardan Sar    1\n",
       "Momhil Sar            1\n",
       "Skil Brum (K2)        1\n",
       "Teram Kangri III      1\n",
       "Tirich Mir            1\n",
       "Muztagh Ata           1\n",
       "Shishapangma          1\n",
       "Gasherbrum III        1\n",
       "Kula Kangri           1\n",
       "Rimo I                1\n",
       "Tongshanjiabu         1\n",
       "Churen Himal          1\n",
       "Masherbrum            1\n",
       "Rakaposhi             1\n",
       "Dhaulagiri II         1\n",
       "Name: Parent mountain, dtype: int64"
      ]
     },
     "execution_count": 74,
     "metadata": {},
     "output_type": "execute_result"
    }
   ],
   "source": [
    "mountains['Parent mountain'].value_counts()"
   ]
  },
  {
   "cell_type": "code",
   "execution_count": null,
   "metadata": {},
   "outputs": [],
   "source": []
  }
 ],
 "metadata": {
  "kernelspec": {
   "display_name": "Python 3",
   "language": "python",
   "name": "python3"
  },
  "language_info": {
   "codemirror_mode": {
    "name": "ipython",
    "version": 3
   },
   "file_extension": ".py",
   "mimetype": "text/x-python",
   "name": "python",
   "nbconvert_exporter": "python",
   "pygments_lexer": "ipython3",
   "version": "3.8.1"
  }
 },
 "nbformat": 4,
 "nbformat_minor": 4
}
